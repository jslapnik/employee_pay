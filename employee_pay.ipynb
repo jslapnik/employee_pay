{
 "cells": [
  {
   "cell_type": "markdown",
   "metadata": {},
   "source": [
    "ID Number\tName\tPay Rate\tHours Worked\n",
    "\n",
    "001\t        Mary\t $15.00\t        40\n",
    "\n",
    "002\t        John\t $22.00\t        25\n",
    "\n",
    "003\t        Bob\t     $35.00\t        4\n",
    "\n",
    "004\t        Mel\t     $43.00\t        62\n",
    "\n",
    "005\t        Jen\t     $17.00\t        33\n",
    "\n",
    "006\t        Sue\t     $29.00\t        45\n",
    "\n",
    "007\t        Ken\t     $40.00\t        36\n",
    "\n",
    "008\t        Dave\t $20.00\t        17\n",
    "\n",
    "009\t        Beth\t $37.00\t        37\n",
    "\n",
    "010\t        Ray\t     $16.50\t        80\n"
   ]
  },
  {
   "cell_type": "code",
   "execution_count": 1,
   "metadata": {},
   "outputs": [],
   "source": [
    "import sqlite3"
   ]
  },
  {
   "cell_type": "code",
   "execution_count": 2,
   "metadata": {},
   "outputs": [],
   "source": [
    "conn = sqlite3.connect(':memory:')\n",
    "c = conn.cursor()\n",
    "c.execute(\"\"\"CREATE TABLE salaries (\n",
    "            ID text,\n",
    "            name text,\n",
    "            pay_rate integer,\n",
    "            hours_worked integer,\n",
    "            salary integer\n",
    "            )\"\"\")\n",
    "conn.commit()"
   ]
  },
  {
   "cell_type": "code",
   "execution_count": 3,
   "metadata": {},
   "outputs": [],
   "source": [
    "class Emp:\n",
    "    def __init__(self, identification, name, pay_rate, hours_worked, salary):\n",
    "        self.identification = identification\n",
    "        self.name = name\n",
    "        self.pay_rate = pay_rate\n",
    "        self.hours_worked = hours_worked\n",
    "        self.salary = salary"
   ]
  },
  {
   "cell_type": "code",
   "execution_count": 4,
   "metadata": {},
   "outputs": [],
   "source": [
    "emp1 = Emp(\"001\", \"Mary\", 15.00, 40, (40*15))\n",
    "emp2 = Emp(\"002\", \"John\", 22.00, 25, (25*22))\n",
    "emp3 = Emp(\"003\", \"Bob\", 4.00, 35, (4*35))\n",
    "emp4 = Emp(\"004\", \"Mel\", 43, 62, ((40*43)+((62-40)*(43*1.5))))\n",
    "emp5 = Emp(\"005\", \"Jen\", 17.00, 33, (33*17))\n",
    "emp6 = Emp(\"006\", \"Sue\", 29.00, 45, ((40*29)+((45-40)*(29*1.5))))\n",
    "emp7 = Emp(\"007\", \"Ken\", 40.00, 36, (36*40))\n",
    "emp8 = Emp(\"008\", \"Dave\", 20.00, 17, (17*20))\n",
    "emp9 = Emp(\"009\", \"Beth\", 37.00, 37, (37*37))\n",
    "emp10 = Emp(\"010\", \"Ray\", 16.50, 80, ((40*16.5)+((80-40)*(16.5*1.5))))"
   ]
  },
  {
   "cell_type": "code",
   "execution_count": 5,
   "metadata": {},
   "outputs": [],
   "source": [
    "c.execute(\"INSERT INTO salaries VALUES (?,?,?,?,?)\", (emp1.identification, emp1.name, emp1.pay_rate, emp1.hours_worked, emp1.salary))\n",
    "conn.commit()"
   ]
  },
  {
   "cell_type": "code",
   "execution_count": 6,
   "metadata": {},
   "outputs": [],
   "source": [
    "c.execute(\"INSERT INTO salaries VALUES (?,?,?,?,?)\", (emp2.identification, emp2.name, emp2.pay_rate, emp2.hours_worked, emp2.salary))\n",
    "conn.commit()"
   ]
  },
  {
   "cell_type": "code",
   "execution_count": 7,
   "metadata": {},
   "outputs": [],
   "source": [
    "c.execute(\"INSERT INTO salaries VALUES (?,?,?,?,?)\", (emp3.identification, emp3.name, emp3.pay_rate, emp3.hours_worked, emp3.salary))\n",
    "conn.commit()"
   ]
  },
  {
   "cell_type": "code",
   "execution_count": 8,
   "metadata": {},
   "outputs": [],
   "source": [
    "c.execute(\"INSERT INTO salaries VALUES (?,?,?,?,?)\", (emp4.identification, emp4.name, emp4.pay_rate, emp4.hours_worked, emp4.salary))\n",
    "conn.commit()"
   ]
  },
  {
   "cell_type": "code",
   "execution_count": 9,
   "metadata": {},
   "outputs": [],
   "source": [
    "c.execute(\"INSERT INTO salaries VALUES (?,?,?,?,?)\", (emp5.identification, emp5.name, emp5.pay_rate, emp5.hours_worked, emp5.salary))\n",
    "conn.commit()"
   ]
  },
  {
   "cell_type": "code",
   "execution_count": 10,
   "metadata": {},
   "outputs": [],
   "source": [
    "c.execute(\"INSERT INTO salaries VALUES (?,?,?,?,?)\", (emp6.identification, emp6.name, emp6.pay_rate, emp6.hours_worked, emp6.salary))\n",
    "conn.commit()"
   ]
  },
  {
   "cell_type": "code",
   "execution_count": 11,
   "metadata": {},
   "outputs": [],
   "source": [
    "c.execute(\"INSERT INTO salaries VALUES (?,?,?,?,?)\", (emp7.identification, emp7.name, emp7.pay_rate, emp7.hours_worked, emp7.salary))\n",
    "conn.commit()"
   ]
  },
  {
   "cell_type": "code",
   "execution_count": 12,
   "metadata": {},
   "outputs": [],
   "source": [
    "c.execute(\"INSERT INTO salaries VALUES (?,?,?,?,?)\", (emp8.identification, emp8.name, emp8.pay_rate, emp8.hours_worked, emp8.salary))\n",
    "conn.commit()"
   ]
  },
  {
   "cell_type": "code",
   "execution_count": 13,
   "metadata": {},
   "outputs": [],
   "source": [
    "c.execute(\"INSERT INTO salaries VALUES (?,?,?,?,?)\", (emp9.identification, emp9.name, emp9.pay_rate, emp9.hours_worked, emp9.salary))\n",
    "conn.commit()"
   ]
  },
  {
   "cell_type": "code",
   "execution_count": 14,
   "metadata": {},
   "outputs": [],
   "source": [
    "c.execute(\"INSERT INTO salaries VALUES (?,?,?,?,?)\", (emp10.identification, emp10.name, emp10.pay_rate, emp10.hours_worked, emp10.salary))\n",
    "conn.commit()"
   ]
  },
  {
   "cell_type": "code",
   "execution_count": 15,
   "metadata": {},
   "outputs": [
    {
     "name": "stdout",
     "output_type": "stream",
     "text": [
      "[('001', 'Mary', 15, 40, 600)]\n",
      "[('002', 'John', 22, 25, 550)]\n",
      "[('003', 'Bob', 4, 35, 140)]\n",
      "[('004', 'Mel', 43, 62, 3139)]\n",
      "[('005', 'Jen', 17, 33, 561)]\n",
      "[('006', 'Sue', 29, 45, 1377.5)]\n",
      "[('007', 'Ken', 40, 36, 1440)]\n",
      "[('008', 'Dave', 20, 17, 340)]\n",
      "[('009', 'Beth', 37, 37, 1369)]\n",
      "[('010', 'Ray', 16.5, 80, 1650)]\n"
     ]
    }
   ],
   "source": [
    "c.execute(\"SELECT * FROM salaries WHERE ID = ?\", ('001',))\n",
    "print(c.fetchall())\n",
    "c.execute(\"SELECT * FROM salaries WHERE ID = ?\", ('002',))\n",
    "print(c.fetchall())\n",
    "c.execute(\"SELECT * FROM salaries WHERE ID = ?\", ('003',))\n",
    "print(c.fetchall())\n",
    "c.execute(\"SELECT * FROM salaries WHERE ID = ?\", ('004',))\n",
    "print(c.fetchall())\n",
    "c.execute(\"SELECT * FROM salaries WHERE ID = ?\", ('005',))\n",
    "print(c.fetchall())\n",
    "c.execute(\"SELECT * FROM salaries WHERE ID = ?\", ('006',))\n",
    "print(c.fetchall())\n",
    "c.execute(\"SELECT * FROM salaries WHERE ID = ?\", ('007',))\n",
    "print(c.fetchall())\n",
    "c.execute(\"SELECT * FROM salaries WHERE ID = ?\", ('008',))\n",
    "print(c.fetchall())\n",
    "c.execute(\"SELECT * FROM salaries WHERE ID = ?\", ('009',))\n",
    "print(c.fetchall())\n",
    "c.execute(\"SELECT * FROM salaries WHERE ID = ?\", ('010',))\n",
    "print(c.fetchall())"
   ]
  },
  {
   "cell_type": "code",
   "execution_count": null,
   "metadata": {},
   "outputs": [],
   "source": []
  }
 ],
 "metadata": {
  "kernelspec": {
   "display_name": "Python 3",
   "language": "python",
   "name": "python3"
  },
  "language_info": {
   "codemirror_mode": {
    "name": "ipython",
    "version": 3
   },
   "file_extension": ".py",
   "mimetype": "text/x-python",
   "name": "python",
   "nbconvert_exporter": "python",
   "pygments_lexer": "ipython3",
   "version": "3.7.6"
  }
 },
 "nbformat": 4,
 "nbformat_minor": 4
}
